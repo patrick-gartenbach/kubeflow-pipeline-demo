{
 "cells": [
  {
   "cell_type": "markdown",
   "metadata": {},
   "source": [
    "## Configure Session"
   ]
  },
  {
   "cell_type": "code",
   "execution_count": 1,
   "metadata": {},
   "outputs": [
    {
     "name": "stdout",
     "output_type": "stream",
     "text": [
      "Starting Spark application\n"
     ]
    },
    {
     "data": {
      "text/html": [
       "<table>\n",
       "<tr><th>ID</th><th>YARN Application ID</th><th>Kind</th><th>State</th><th>Spark UI</th><th>Driver log</th><th>Current session?</th></tr><tr><td>5</td><td>None</td><td>pyspark</td><td>idle</td><td></td><td></td><td>✔</td></tr></table>"
      ],
      "text/plain": [
       "<IPython.core.display.HTML object>"
      ]
     },
     "metadata": {},
     "output_type": "display_data"
    },
    {
     "data": {
      "application/vnd.jupyter.widget-view+json": {
       "model_id": "8b9f15d22ec847329e378d795a04a2e9",
       "version_major": 2,
       "version_minor": 0
      },
      "text/plain": [
       "FloatProgress(value=0.0, bar_style='info', description='Progress:', layout=Layout(height='25px', width='50%'),…"
      ]
     },
     "metadata": {},
     "output_type": "display_data"
    },
    {
     "name": "stdout",
     "output_type": "stream",
     "text": [
      "SparkSession available as 'spark'.\n"
     ]
    },
    {
     "data": {
      "application/vnd.jupyter.widget-view+json": {
       "model_id": "2e0cb101107746e2adfa5988258e487b",
       "version_major": 2,
       "version_minor": 0
      },
      "text/plain": [
       "FloatProgress(value=0.0, bar_style='info', description='Progress:', layout=Layout(height='25px', width='50%'),…"
      ]
     },
     "metadata": {},
     "output_type": "display_data"
    },
    {
     "name": "stdout",
     "output_type": "stream",
     "text": [
      "[('spark.jars', 'file:///opt/livy/apache-livy-0.7.0-incubating-bin/rsc-jars/livy-api-0.7.0-incubating.jar,file:///opt/livy/apache-livy-0.7.0-incubating-bin/rsc-jars/livy-rsc-0.7.0-incubating.jar,file:///opt/livy/apache-livy-0.7.0-incubating-bin/rsc-jars/livy-thriftserver-session-0.7.0-incubating.jar,file:///opt/livy/apache-livy-0.7.0-incubating-bin/rsc-jars/netty-all-4.0.37.Final.jar,file:///opt/livy/apache-livy-0.7.0-incubating-bin/repl_2.11-jars/commons-codec-1.9.jar,file:///opt/livy/apache-livy-0.7.0-incubating-bin/repl_2.11-jars/livy-core_2.11-0.7.0-incubating.jar,file:///opt/livy/apache-livy-0.7.0-incubating-bin/repl_2.11-jars/livy-repl_2.11-0.7.0-incubating.jar'), ('spark.sql.catalogImplementation', 'in-memory'), ('spark.yarn.submit.waitAppCompletion', 'false'), ('spark.executor.id', 'driver'), ('spark.sql.warehouse.dir', 'dtap://TenantStorage/warehouse'), ('spark.executor.cores', '2'), ('spark.app.name', 'livy-session-5'), ('spark.driver.memory', '2000M'), ('spark.yarn.maxAppAttempts', '1'), ('spark.master', 'spark://spark-spark-master-vgd6b-0.sparkgnvlv.mlops.svc.cluster.local:7077'), ('spark.driver.port', '43122'), ('spark.repl.local.jars', 'file:///opt/livy/apache-livy-0.7.0-incubating-bin/rsc-jars/livy-api-0.7.0-incubating.jar,file:///opt/livy/apache-livy-0.7.0-incubating-bin/rsc-jars/livy-rsc-0.7.0-incubating.jar,file:///opt/livy/apache-livy-0.7.0-incubating-bin/rsc-jars/livy-thriftserver-session-0.7.0-incubating.jar,file:///opt/livy/apache-livy-0.7.0-incubating-bin/rsc-jars/netty-all-4.0.37.Final.jar,file:///opt/livy/apache-livy-0.7.0-incubating-bin/repl_2.11-jars/commons-codec-1.9.jar,file:///opt/livy/apache-livy-0.7.0-incubating-bin/repl_2.11-jars/livy-core_2.11-0.7.0-incubating.jar,file:///opt/livy/apache-livy-0.7.0-incubating-bin/repl_2.11-jars/livy-repl_2.11-0.7.0-incubating.jar'), ('spark.livy.spark_major_version', '2'), ('spark.executor.memory', '2000M'), ('spark.repl.class.outputDir', '/tmp/spark8527406346166997900'), ('spark.cores.max', '2'), ('spark.yarn.isPython', 'true'), ('spark.submit.deployMode', 'client'), ('spark.yarn.dist.archives', 'file:/usr/lib/spark/spark-2.4.5-bin-hadoop2.7/R/lib/sparkr.zip#sparkr'), ('spark.driver.host', 'spark-livy-server-5l8hb-0.sparkgnvlv.mlops.svc.cluster.local'), ('spark.app.id', 'app-20210827065510-0010'), ('spark.submit.pyFiles', '/usr/lib/spark/spark-2.4.5-bin-hadoop2.7/python/lib/pyspark.zip,/usr/lib/spark/spark-2.4.5-bin-hadoop2.7/python/lib/py4j-0.10.7-src.zip'), ('spark.repl.class.uri', 'spark://spark-livy-server-5l8hb-0.sparkgnvlv.mlops.svc.cluster.local:43122/classes')]"
     ]
    }
   ],
   "source": [
    "spark.sparkContext._conf.getAll()"
   ]
  },
  {
   "cell_type": "code",
   "execution_count": 2,
   "metadata": {},
   "outputs": [
    {
     "data": {
      "application/vnd.jupyter.widget-view+json": {
       "model_id": "33a364d23d2a49f19917b34d65bc1de7",
       "version_major": 2,
       "version_minor": 0
      },
      "text/plain": [
       "FloatProgress(value=0.0, bar_style='info', description='Progress:', layout=Layout(height='25px', width='50%'),…"
      ]
     },
     "metadata": {},
     "output_type": "display_data"
    },
    {
     "name": "stdout",
     "output_type": "stream",
     "text": [
      "+--------+-------------------+-----------+\n",
      "|database|          tableName|isTemporary|\n",
      "+--------+-------------------+-----------+\n",
      "| default|             haus2i|      false|\n",
      "| default|        yellow_taxi|      false|\n",
      "| default|  yellow_taxi_clean|      false|\n",
      "| default|yellow_taxi_grouped|      false|\n",
      "+--------+-------------------+-----------+"
     ]
    }
   ],
   "source": [
    "from pyspark.conf import SparkConf\n",
    "from pyspark.sql import SparkSession\n",
    "import sparkmagic.utils.configuration as conf\n",
    "conf.override('driverMemory', '2000M')\n",
    "conf.override('executorCores',3)\n",
    "spark.sparkContext._conf.getAll()\n",
    "conf = spark.sparkContext._conf.setAll([('spark.sql.catalogImplementation', 'hive'),('spark.driver.memory', '2000M'),('spark.executor.cores', '2')])\n",
    "spark.sparkContext.stop()\n",
    "spark = SparkSession.builder.config(conf=conf).getOrCreate()\n",
    "spark.sql(\"SHOW TABLES\").show()"
   ]
  },
  {
   "cell_type": "code",
   "execution_count": 3,
   "metadata": {},
   "outputs": [
    {
     "data": {
      "application/vnd.jupyter.widget-view+json": {
       "model_id": "47e23ab3f6d540ba887b50373ceae97d",
       "version_major": 2,
       "version_minor": 0
      },
      "text/plain": [
       "FloatProgress(value=0.0, bar_style='info', description='Progress:', layout=Layout(height='25px', width='50%'),…"
      ]
     },
     "metadata": {},
     "output_type": "display_data"
    },
    {
     "name": "stdout",
     "output_type": "stream",
     "text": [
      "[('spark.jars', 'file:///opt/livy/apache-livy-0.7.0-incubating-bin/rsc-jars/livy-api-0.7.0-incubating.jar,file:///opt/livy/apache-livy-0.7.0-incubating-bin/rsc-jars/livy-rsc-0.7.0-incubating.jar,file:///opt/livy/apache-livy-0.7.0-incubating-bin/rsc-jars/livy-thriftserver-session-0.7.0-incubating.jar,file:///opt/livy/apache-livy-0.7.0-incubating-bin/rsc-jars/netty-all-4.0.37.Final.jar,file:///opt/livy/apache-livy-0.7.0-incubating-bin/repl_2.11-jars/commons-codec-1.9.jar,file:///opt/livy/apache-livy-0.7.0-incubating-bin/repl_2.11-jars/livy-core_2.11-0.7.0-incubating.jar,file:///opt/livy/apache-livy-0.7.0-incubating-bin/repl_2.11-jars/livy-repl_2.11-0.7.0-incubating.jar'), ('spark.master', 'spark://spark-spark-master-wtjvn-0.sparkfdv5v.mlops.svc.cluster.local:7077'), ('spark.yarn.submit.waitAppCompletion', 'false'), ('spark.app.name', 'livy-session-21'), ('spark.executor.id', 'driver'), ('spark.sql.warehouse.dir', 'dtap://TenantStorage/warehouse'), ('spark.executor.cores', '2'), ('spark.driver.memory', '2000M'), ('spark.sql.catalogImplementation', 'hive'), ('spark.yarn.maxAppAttempts', '1'), ('spark.driver.port', '35944'), ('spark.rdd.compress', 'True'), ('spark.livy.spark_major_version', '2'), ('spark.repl.local.jars', 'file:///opt/livy/apache-livy-0.7.0-incubating-bin/rsc-jars/livy-api-0.7.0-incubating.jar,file:///opt/livy/apache-livy-0.7.0-incubating-bin/rsc-jars/livy-rsc-0.7.0-incubating.jar,file:///opt/livy/apache-livy-0.7.0-incubating-bin/rsc-jars/livy-thriftserver-session-0.7.0-incubating.jar,file:///opt/livy/apache-livy-0.7.0-incubating-bin/rsc-jars/netty-all-4.0.37.Final.jar,file:///opt/livy/apache-livy-0.7.0-incubating-bin/repl_2.11-jars/commons-codec-1.9.jar,file:///opt/livy/apache-livy-0.7.0-incubating-bin/repl_2.11-jars/livy-core_2.11-0.7.0-incubating.jar,file:///opt/livy/apache-livy-0.7.0-incubating-bin/repl_2.11-jars/livy-repl_2.11-0.7.0-incubating.jar'), ('spark.repl.class.uri', 'spark://10-192-0-186.spark-livy-server-fc4dx-0.mlops.svc.cluster.local:35944/classes'), ('spark.executor.memory', '2000M'), ('spark.cores.max', '2'), ('spark.serializer.objectStreamReset', '100'), ('spark.yarn.isPython', 'true'), ('spark.repl.class.outputDir', '/tmp/spark3440222307241573774'), ('spark.submit.deployMode', 'client'), ('spark.yarn.dist.archives', 'file:/usr/lib/spark/spark-2.4.5-bin-hadoop2.7/R/lib/sparkr.zip#sparkr'), ('spark.driver.host', '10-192-0-186.spark-livy-server-fc4dx-0.mlops.svc.cluster.local'), ('spark.submit.pyFiles', '/usr/lib/spark/spark-2.4.5-bin-hadoop2.7/python/lib/pyspark.zip,/usr/lib/spark/spark-2.4.5-bin-hadoop2.7/python/lib/py4j-0.10.7-src.zip'), ('spark.app.id', 'app-20210805073855-0041')]"
     ]
    }
   ],
   "source": [
    "spark.sparkContext._conf.getAll()\n"
   ]
  },
  {
   "cell_type": "code",
   "execution_count": 7,
   "metadata": {},
   "outputs": [
    {
     "data": {
      "text/html": [
       "Current session configs: <tt>{'driverMemory': '1000M', 'executorCores': 2, 'proxyUser': 'admin', 'kind': 'pyspark'}</tt><br>"
      ],
      "text/plain": [
       "<IPython.core.display.HTML object>"
      ]
     },
     "metadata": {},
     "output_type": "display_data"
    },
    {
     "data": {
      "text/html": [
       "No active sessions."
      ],
      "text/plain": [
       "<IPython.core.display.HTML object>"
      ]
     },
     "metadata": {},
     "output_type": "display_data"
    }
   ],
   "source": [
    "%%info"
   ]
  },
  {
   "cell_type": "markdown",
   "metadata": {},
   "source": [
    "## Initial Loading/Saving"
   ]
  },
  {
   "cell_type": "code",
   "execution_count": 5,
   "metadata": {},
   "outputs": [
    {
     "data": {
      "application/vnd.jupyter.widget-view+json": {
       "model_id": "e43808af86474c869d1af1f4ffd972d1",
       "version_major": 2,
       "version_minor": 0
      },
      "text/plain": [
       "FloatProgress(value=0.0, bar_style='info', description='Progress:', layout=Layout(height='25px', width='50%'),…"
      ]
     },
     "metadata": {},
     "output_type": "display_data"
    }
   ],
   "source": [
    "from pyspark.sql.types import StructType, StructField\n",
    "from pyspark.sql.types import DoubleType, IntegerType, StringType, ByteType, TimestampType, FloatType\n",
    "\n",
    "customSchema = StructType([\n",
    "    StructField(\"VendorID\", IntegerType()),\n",
    "    StructField(\"tpep_pickup_datetime\", TimestampType()),\n",
    "    StructField(\"tpep_dropoff_datetime\", TimestampType()),\n",
    "    StructField(\"passenger_count\", IntegerType()),\n",
    "    StructField(\"trip_distance\", FloatType()),\n",
    "    StructField(\"RatecodeID\", IntegerType()),\n",
    "    StructField(\"store_and_fwd_flag\",StringType()),\n",
    "    StructField(\"PULocationID\",IntegerType()),\n",
    "    StructField(\"DOLocationID\",IntegerType()),\n",
    "    StructField(\"payment_type\",IntegerType()),\n",
    "    StructField(\"fare_amount\",FloatType()),\n",
    "    StructField(\"extra\",FloatType()),\n",
    "    StructField(\"mta_tax\",FloatType()),\n",
    "    StructField(\"tip_amount\",FloatType()),\n",
    "    StructField(\"tolls_amount\",FloatType()),\n",
    "    StructField(\"improvement_surcharge\",FloatType()),\n",
    "    StructField(\"total_amount\",FloatType())              \n",
    "])"
   ]
  },
  {
   "cell_type": "code",
   "execution_count": 15,
   "metadata": {},
   "outputs": [
    {
     "data": {
      "application/vnd.jupyter.widget-view+json": {
       "model_id": "308471d96eda4540886c52cbeee33990",
       "version_major": 2,
       "version_minor": 0
      },
      "text/plain": [
       "FloatProgress(value=0.0, bar_style='info', description='Progress:', layout=Layout(height='25px', width='50%'),…"
      ]
     },
     "metadata": {},
     "output_type": "display_data"
    }
   ],
   "source": [
    "yellow_taxi = spark.read.option(\"timestampFormat\", \"yyyy-MM-dd HH:mm:ss\").option(\"header\", \"true\").schema(customSchema).csv(\"dtap://TenantStorage/taxi/yellow_tripdata/yellow_tripdata_*.csv\")"
   ]
  },
  {
   "cell_type": "code",
   "execution_count": 50,
   "metadata": {},
   "outputs": [
    {
     "data": {
      "application/vnd.jupyter.widget-view+json": {
       "model_id": "9fa7c94d197144c799f07250fcbf1f47",
       "version_major": 2,
       "version_minor": 0
      },
      "text/plain": [
       "FloatProgress(value=0.0, bar_style='info', description='Progress:', layout=Layout(height='25px', width='50%'),…"
      ]
     },
     "metadata": {},
     "output_type": "display_data"
    },
    {
     "name": "stdout",
     "output_type": "stream",
     "text": [
      "root\n",
      " |-- VendorID: integer (nullable = true)\n",
      " |-- tpep_pickup_datetime: timestamp (nullable = true)\n",
      " |-- tpep_dropoff_datetime: timestamp (nullable = true)\n",
      " |-- passenger_count: integer (nullable = true)\n",
      " |-- trip_distance: float (nullable = true)\n",
      " |-- RatecodeID: integer (nullable = true)\n",
      " |-- store_and_fwd_flag: string (nullable = true)\n",
      " |-- PULocationID: integer (nullable = true)\n",
      " |-- DOLocationID: integer (nullable = true)\n",
      " |-- payment_type: integer (nullable = true)\n",
      " |-- fare_amount: float (nullable = true)\n",
      " |-- extra: float (nullable = true)\n",
      " |-- mta_tax: float (nullable = true)\n",
      " |-- tip_amount: float (nullable = true)\n",
      " |-- tolls_amount: float (nullable = true)\n",
      " |-- improvement_surcharge: float (nullable = true)\n",
      " |-- total_amount: float (nullable = true)"
     ]
    }
   ],
   "source": [
    "yellow_taxi.printSchema()"
   ]
  },
  {
   "cell_type": "code",
   "execution_count": 17,
   "metadata": {},
   "outputs": [
    {
     "data": {
      "application/vnd.jupyter.widget-view+json": {
       "model_id": "c7a9460f1b82416eaa34354deec11ce5",
       "version_major": 2,
       "version_minor": 0
      },
      "text/plain": [
       "FloatProgress(value=0.0, bar_style='info', description='Progress:', layout=Layout(height='25px', width='50%'),…"
      ]
     },
     "metadata": {},
     "output_type": "display_data"
    }
   ],
   "source": [
    "yellow_taxi.write.saveAsTable(\"yellow_taxi\")"
   ]
  },
  {
   "cell_type": "markdown",
   "metadata": {},
   "source": [
    "## Load saved Table"
   ]
  },
  {
   "cell_type": "code",
   "execution_count": 3,
   "metadata": {},
   "outputs": [
    {
     "data": {
      "application/vnd.jupyter.widget-view+json": {
       "model_id": "53ddd84af6944ae88cc8a5d8b5b21273",
       "version_major": 2,
       "version_minor": 0
      },
      "text/plain": [
       "FloatProgress(value=0.0, bar_style='info', description='Progress:', layout=Layout(height='25px', width='50%'),…"
      ]
     },
     "metadata": {},
     "output_type": "display_data"
    }
   ],
   "source": [
    "from pyspark.sql.functions import year, month, dayofmonth\n"
   ]
  },
  {
   "cell_type": "code",
   "execution_count": 4,
   "metadata": {},
   "outputs": [
    {
     "data": {
      "application/vnd.jupyter.widget-view+json": {
       "model_id": "869de172f6eb4c48b7fb1a6434db8c95",
       "version_major": 2,
       "version_minor": 0
      },
      "text/plain": [
       "FloatProgress(value=0.0, bar_style='info', description='Progress:', layout=Layout(height='25px', width='50%'),…"
      ]
     },
     "metadata": {},
     "output_type": "display_data"
    }
   ],
   "source": [
    "yellow_taxi = spark.sql(\"SELECT * FROM default.yellow_taxi\")\n"
   ]
  }
 ],
 "metadata": {
  "kernelspec": {
   "display_name": "PySpark",
   "language": "",
   "name": "pysparkkernel"
  },
  "language_info": {
   "codemirror_mode": {
    "name": "python",
    "version": 3
   },
   "mimetype": "text/x-python",
   "name": "pyspark",
   "pygments_lexer": "python3"
  }
 },
 "nbformat": 4,
 "nbformat_minor": 4
}
